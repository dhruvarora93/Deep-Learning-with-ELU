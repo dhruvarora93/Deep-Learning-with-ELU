{
 "cells": [
  {
   "cell_type": "code",
   "execution_count": 1,
   "metadata": {
    "collapsed": true
   },
   "outputs": [],
   "source": [
    "import tensorflow as tf\n",
    "import time\n",
    "import numpy as np\n",
    "from tensorflow.python.framework import ops\n",
    "from tf_utils import random_mini_batches\n",
    "import matplotlib.pyplot as plt\n",
    "from tensorflow.examples.tutorials.mnist import input_data\n",
    "%matplotlib inline"
   ]
  },
  {
   "cell_type": "code",
   "execution_count": 4,
   "metadata": {},
   "outputs": [
    {
     "name": "stdout",
     "output_type": "stream",
     "text": [
      "Extracting MNIST_data/train-images-idx3-ubyte.gz\n",
      "Extracting MNIST_data/train-labels-idx1-ubyte.gz\n",
      "Extracting MNIST_data/t10k-images-idx3-ubyte.gz\n",
      "Extracting MNIST_data/t10k-labels-idx1-ubyte.gz\n"
     ]
    }
   ],
   "source": [
    "mnist = input_data.read_data_sets('MNIST_data', one_hot=True)"
   ]
  },
  {
   "cell_type": "code",
   "execution_count": 5,
   "metadata": {
    "collapsed": true
   },
   "outputs": [],
   "source": [
    "mnist_training_images=mnist.train.images.T\n",
    "mnist_training_images_labels=mnist.train.labels.T\n",
    "mnist_test_images=mnist.test.images.T\n",
    "mnist_test_images_labels=mnist.test.labels.T"
   ]
  },
  {
   "cell_type": "code",
   "execution_count": 6,
   "metadata": {},
   "outputs": [
    {
     "data": {
      "image/png": "[encoded data removed]",
      "text/plain": [
       "<matplotlib.figure.Figure at 0x1141489e8>"
      ]
     },
     "metadata": {},
     "output_type": "display_data"
    }
   ],
   "source": [
    "plt.imshow(mnist_training_images[:,100].reshape((28,28)))\n",
    "plt.savefig('7.jpg',dpi=200)"
   ]
  },
  {
   "cell_type": "code",
   "execution_count": 7,
   "metadata": {
    "collapsed": true
   },
   "outputs": [],
   "source": [
    "def create_placeholders(n_x,n_y):\n",
    "    X = tf.placeholder(tf.float32, shape=[n_x,None])\n",
    "    Y = tf.placeholder(tf.float32, shape=[n_y,None])\n",
    "    return X,Y"
   ]
  },
  {
   "cell_type": "code",
   "execution_count": 8,
   "metadata": {
    "collapsed": true
   },
   "outputs": [],
   "source": [
    "def initialize_parameters():\n",
    "    W1 = tf.get_variable(\"W1\",[20,784],initializer=tf.contrib.keras.initializers.he_uniform(seed=1))\n",
    "    b1 = tf.get_variable(\"b1\",[20,1],initializer=tf.zeros_initializer())\n",
    "    W2 = tf.get_variable(\"W2\",[20,20],initializer=tf.contrib.keras.initializers.he_uniform(seed=1))\n",
    "    b2 = tf.get_variable(\"b2\",[20,1],initializer=tf.zeros_initializer())\n",
    "    W3 = tf.get_variable(\"W3\",[20,20],initializer=tf.contrib.keras.initializers.he_uniform(seed=1))\n",
    "    b3 = tf.get_variable(\"b3\",[20,1],initializer=tf.zeros_initializer())\n",
    "    W4 = tf.get_variable(\"W4\",[20,20],initializer=tf.contrib.keras.initializers.he_uniform(seed=1))\n",
    "    b4 = tf.get_variable(\"b4\",[20,1],initializer=tf.zeros_initializer())\n",
    "    W5 = tf.get_variable(\"W5\",[20,20],initializer=tf.contrib.keras.initializers.he_uniform(seed=1))\n",
    "    b5 = tf.get_variable(\"b5\",[20,1],initializer=tf.zeros_initializer())\n",
    "    W6 = tf.get_variable(\"W6\",[10,20],initializer=tf.contrib.keras.initializers.he_uniform(seed=1))\n",
    "    b6 = tf.get_variable(\"b6\",[10,1],initializer=tf.zeros_initializer())\n",
    "    parameters = {\"W1\": W1,\n",
    "                  \"b1\": b1,\n",
    "                  \"W2\": W2,\n",
    "                  \"b2\": b2,\n",
    "                  \"W3\": W3,\n",
    "                  \"b3\": b3,\n",
    "                  \"W4\": W4,\n",
    "                  \"b4\": b4,\n",
    "                  \"W5\": W5,\n",
    "                  \"b5\": b5,\n",
    "                  \"W6\": W6,\n",
    "                  \"b6\": b6}\n",
    "    return parameters\n"
   ]
  },
  {
   "cell_type": "markdown",
   "metadata": {},
   "source": [
    "Below, we have four different methds for four different activation functions (see name of function). Each method performs forward propogation for a six-layer NN using the specified activation function. Change the name in the 'model' method to use any one of them. Also, we have a function for each of them to return the average activation values of the network during training. "
   ]
  },
  {
   "cell_type": "code",
   "execution_count": 9,
   "metadata": {
    "collapsed": true
   },
   "outputs": [],
   "source": [
    "def elu_forward_propogation(X,parameters):\n",
    "     W1 = parameters['W1']\n",
    "     b1 = parameters['b1']\n",
    "     W2 = parameters['W2']\n",
    "     b2 = parameters['b2']\n",
    "     W3 = parameters['W3']\n",
    "     b3 = parameters['b3']\n",
    "     W4 = parameters['W4']\n",
    "     b4 = parameters['b4']\n",
    "     W5 = parameters['W5']\n",
    "     b5 = parameters['b5']\n",
    "     W6 = parameters['W6']\n",
    "     b6 = parameters['b6']\n",
    "     Z1 = tf.add(tf.matmul(W1,X),b1)  \n",
    "     A1=tf.nn.elu(Z1)                    # Using ELU as the activation function in all the layers\n",
    "     Z2 = tf.add(tf.matmul(W2,A1),b2)\n",
    "     A2=tf.nn.elu(Z2)\n",
    "     Z3 = tf.add(tf.matmul(W3,A2),b3)\n",
    "     A3=tf.nn.elu(Z3)\n",
    "     Z4 = tf.add(tf.matmul(W4,A3),b4)\n",
    "     A4=tf.nn.elu(Z4)\n",
    "     Z5 = tf.add(tf.matmul(W5,A4),b5)\n",
    "     A5=tf.nn.elu(Z5)\n",
    "     Z6 = tf.add(tf.matmul(W6,A5),b6)\n",
    "     return Z6\n",
    "def get_elu_activations(X,parameters):\n",
    "     W1 = parameters['W1']\n",
    "     b1 = parameters['b1']\n",
    "     W2 = parameters['W2']\n",
    "     b2 = parameters['b2']\n",
    "     W3 = parameters['W3']\n",
    "     b3 = parameters['b3']\n",
    "     W4 = parameters['W4']\n",
    "     b4 = parameters['b4']\n",
    "     W5 = parameters['W5']\n",
    "     b5 = parameters['b5']\n",
    "     W6 = parameters['W6']\n",
    "     b6 = parameters['b6']\n",
    "     Z1 = tf.add(tf.matmul(W1,X),b1)  \n",
    "     A1=tf.nn.elu(Z1)                    \n",
    "     Z2 = tf.add(tf.matmul(W2,A1),b2)\n",
    "     A2=tf.nn.elu(Z2)\n",
    "     Z3 = tf.add(tf.matmul(W3,A2),b3)\n",
    "     A3=tf.nn.elu(Z3)\n",
    "     Z4 = tf.add(tf.matmul(W4,A3),b4)\n",
    "     A4=tf.nn.elu(Z4)\n",
    "     Z5 = tf.add(tf.matmul(W5,A4),b5)\n",
    "     A5=tf.nn.elu(Z5)\n",
    "     \n",
    "     return (tf.reduce_mean(A1)+tf.reduce_mean(A2)+tf.reduce_mean(A3)+tf.reduce_mean(A4)+tf.reduce_mean(A5))/5"
   ]
  },
  {
   "cell_type": "code",
   "execution_count": 10,
   "metadata": {
    "collapsed": true
   },
   "outputs": [],
   "source": [
    "def relu_forward_propogation(X,parameters):\n",
    "     W1 = parameters['W1']\n",
    "     b1 = parameters['b1']\n",
    "     W2 = parameters['W2']\n",
    "     b2 = parameters['b2']\n",
    "     W3 = parameters['W3']\n",
    "     b3 = parameters['b3']\n",
    "     W4 = parameters['W4']\n",
    "     b4 = parameters['b4']\n",
    "     W5 = parameters['W5']\n",
    "     b5 = parameters['b5']\n",
    "     W6 = parameters['W6']\n",
    "     b6 = parameters['b6']\n",
    "     Z1 = tf.add(tf.matmul(W1,X),b1)  \n",
    "     A1=tf.nn.relu(Z1)                    # Using ReLU as the activation function in all the layers\n",
    "     Z2 = tf.add(tf.matmul(W2,A1),b2)\n",
    "     A2=tf.nn.relu(Z2)\n",
    "     Z3 = tf.add(tf.matmul(W3,A2),b3)\n",
    "     A3=tf.nn.relu(Z3)\n",
    "     Z4 = tf.add(tf.matmul(W4,A3),b4)\n",
    "     A4=tf.nn.relu(Z4)\n",
    "     Z5 = tf.add(tf.matmul(W5,A4),b5)\n",
    "     A5=tf.nn.relu(Z5)\n",
    "     Z6 = tf.add(tf.matmul(W6,A5),b6)\n",
    "     return Z6\n",
    "def get_relu_activations(X,parameters):\n",
    "     W1 = parameters['W1']\n",
    "     b1 = parameters['b1']\n",
    "     W2 = parameters['W2']\n",
    "     b2 = parameters['b2']\n",
    "     W3 = parameters['W3']\n",
    "     b3 = parameters['b3']\n",
    "     W4 = parameters['W4']\n",
    "     b4 = parameters['b4']\n",
    "     W5 = parameters['W5']\n",
    "     b5 = parameters['b5']\n",
    "     W6 = parameters['W6']\n",
    "     b6 = parameters['b6']\n",
    "     Z1 = tf.add(tf.matmul(W1,X),b1)  \n",
    "     A1=tf.nn.relu(Z1)                    \n",
    "     Z2 = tf.add(tf.matmul(W2,A1),b2)\n",
    "     A2=tf.nn.relu(Z2)\n",
    "     Z3 = tf.add(tf.matmul(W3,A2),b3)\n",
    "     A3=tf.nn.relu(Z3)\n",
    "     Z4 = tf.add(tf.matmul(W4,A3),b4)\n",
    "     A4=tf.nn.relu(Z4)\n",
    "     Z5 = tf.add(tf.matmul(W5,A4),b5)\n",
    "     A5=tf.nn.relu(Z5)\n",
    "     \n",
    "     return (tf.reduce_mean(A1)+tf.reduce_mean(A2)+tf.reduce_mean(A3)+tf.reduce_mean(A4)+tf.reduce_mean(A5))/5"
   ]
  },
  {
   "cell_type": "code",
   "execution_count": 11,
   "metadata": {
    "collapsed": true
   },
   "outputs": [],
   "source": [
    "def sigmoid_forward_propogation(X,parameters):\n",
    "     W1 = parameters['W1']\n",
    "     b1 = parameters['b1']\n",
    "     W2 = parameters['W2']\n",
    "     b2 = parameters['b2']\n",
    "     W3 = parameters['W3']\n",
    "     b3 = parameters['b3']\n",
    "     W4 = parameters['W4']\n",
    "     b4 = parameters['b4']\n",
    "     W5 = parameters['W5']\n",
    "     b5 = parameters['b5']\n",
    "     W6 = parameters['W6']\n",
    "     b6 = parameters['b6']\n",
    "     Z1 = tf.add(tf.matmul(W1,X),b1)  \n",
    "     A1=tf.nn.sigmoid(Z1)                     # Using Sigmoid as Activaton function\n",
    "     Z2 = tf.add(tf.matmul(W2,A1),b2)\n",
    "     A2=tf.nn.sigmoid(Z2)\n",
    "     Z3 = tf.add(tf.matmul(W3,A2),b3)\n",
    "     A3=tf.nn.sigmoid(Z3)\n",
    "     Z4 = tf.add(tf.matmul(W4,A3),b4)\n",
    "     A4=tf.nn.sigmoid(Z4)\n",
    "     Z5 = tf.add(tf.matmul(W5,A4),b5)\n",
    "     A5=tf.nn.sigmoid(Z5)\n",
    "     Z6 = tf.add(tf.matmul(W6,A5),b6)\n",
    "     return Z6\n",
    "def get_sigmoid_activations(X,parameters):\n",
    "     W1 = parameters['W1']\n",
    "     b1 = parameters['b1']\n",
    "     W2 = parameters['W2']\n",
    "     b2 = parameters['b2']\n",
    "     W3 = parameters['W3']\n",
    "     b3 = parameters['b3']\n",
    "     W4 = parameters['W4']\n",
    "     b4 = parameters['b4']\n",
    "     W5 = parameters['W5']\n",
    "     b5 = parameters['b5']\n",
    "     W6 = parameters['W6']\n",
    "     b6 = parameters['b6']\n",
    "     Z1 = tf.add(tf.matmul(W1,X),b1)  \n",
    "     A1=tf.nn.sigmoid(Z1)                    \n",
    "     Z2 = tf.add(tf.matmul(W2,A1),b2)\n",
    "     A2=tf.nn.sigmoid(Z2)\n",
    "     Z3 = tf.add(tf.matmul(W3,A2),b3)\n",
    "     A3=tf.nn.sigmoid(Z3)\n",
    "     Z4 = tf.add(tf.matmul(W4,A3),b4)\n",
    "     A4=tf.nn.sigmoid(Z4)\n",
    "     Z5 = tf.add(tf.matmul(W5,A4),b5)\n",
    "     A5=tf.nn.sigmoid(Z5)\n",
    "     \n",
    "     return (tf.reduce_mean(A1)+tf.reduce_mean(A2)+tf.reduce_mean(A3)+tf.reduce_mean(A4)+tf.reduce_mean(A5))/5"
   ]
  },
  {
   "cell_type": "code",
   "execution_count": 12,
   "metadata": {
    "collapsed": true
   },
   "outputs": [],
   "source": [
    "def lrelu(x, alpha=0.1):\n",
    "  return tf.nn.relu(x) - alpha * tf.nn.relu(-x)\n",
    "\n",
    "def leakyrelu_forward_propogation(X,parameters):\n",
    "     W1 = parameters['W1']\n",
    "     b1 = parameters['b1']\n",
    "     W2 = parameters['W2']\n",
    "     b2 = parameters['b2']\n",
    "     W3 = parameters['W3']\n",
    "     b3 = parameters['b3']\n",
    "     W4 = parameters['W4']\n",
    "     b4 = parameters['b4']\n",
    "     W5 = parameters['W5']\n",
    "     b5 = parameters['b5']\n",
    "     W6 = parameters['W6']\n",
    "     b6 = parameters['b6']\n",
    "     Z1 = tf.add(tf.matmul(W1,X),b1)  \n",
    "     A1=lrelu(Z1)                        # Using LReLU as activation function\n",
    "     Z2 = tf.add(tf.matmul(W2,A1),b2)\n",
    "     A2=lrelu(Z2)\n",
    "     Z3 = tf.add(tf.matmul(W3,A2),b3)\n",
    "     A3=lrelu(Z3)\n",
    "     Z4 = tf.add(tf.matmul(W4,A3),b4)\n",
    "     A4=lrelu(Z4)\n",
    "     Z5 = tf.add(tf.matmul(W5,A4),b5)\n",
    "     A5=lrelu(Z5)\n",
    "     Z6 = tf.add(tf.matmul(W6,A5),b6)\n",
    "     return Z6\n",
    "def get_leakyrelu_activations(X,parameters):\n",
    "     W1 = parameters['W1']\n",
    "     b1 = parameters['b1']\n",
    "     W2 = parameters['W2']\n",
    "     b2 = parameters['b2']\n",
    "     W3 = parameters['W3']\n",
    "     b3 = parameters['b3']\n",
    "     W4 = parameters['W4']\n",
    "     b4 = parameters['b4']\n",
    "     W5 = parameters['W5']\n",
    "     b5 = parameters['b5']\n",
    "     W6 = parameters['W6']\n",
    "     b6 = parameters['b6']\n",
    "     Z1 = tf.add(tf.matmul(W1,X),b1)  \n",
    "     A1=lrelu(Z1)                    # Using ELU as the activation function in all the layers\n",
    "     Z2 = tf.add(tf.matmul(W2,A1),b2)\n",
    "     A2=lrelu(Z2)\n",
    "     Z3 = tf.add(tf.matmul(W3,A2),b3)\n",
    "     A3=lrelu(Z3)\n",
    "     Z4 = tf.add(tf.matmul(W4,A3),b4)\n",
    "     A4=lrelu(Z4)\n",
    "     Z5 = tf.add(tf.matmul(W5,A4),b5)\n",
    "     A5=lrelu(Z5)\n",
    "     \n",
    "     return (tf.reduce_mean(A1)+tf.reduce_mean(A2)+tf.reduce_mean(A3)+tf.reduce_mean(A4)+tf.reduce_mean(A5))/5"
   ]
  },
  {
   "cell_type": "code",
   "execution_count": 13,
   "metadata": {
    "collapsed": true
   },
   "outputs": [],
   "source": [
    "def compute_cost(Z6,Y):\n",
    "    logits = tf.transpose(Z6)\n",
    "    labels = tf.transpose(Y)\n",
    "    cost = tf.reduce_mean(tf.nn.softmax_cross_entropy_with_logits(logits=logits,labels=labels))\n",
    "    return cost"
   ]
  },
  {
   "cell_type": "code",
   "execution_count": 14,
   "metadata": {
    "collapsed": true
   },
   "outputs": [],
   "source": [
    "def model(X_train, Y_train, X_test, Y_test, learning_rate = 0.01,num_epochs = 300, minibatch_size = 64):\n",
    "    \n",
    "    ops.reset_default_graph()                         \n",
    "    tf.set_random_seed(1)                         \n",
    "    seed = 3                                         \n",
    "    (n_x, m) = X_train.shape                         \n",
    "    n_y = Y_train.shape[0]                           \n",
    "    costs = []                                        \n",
    "    mean_activations=[]\n",
    "    X,Y=create_placeholders(n_x,n_y)\n",
    "    \n",
    "    parameters = initialize_parameters()\n",
    "    \n",
    "    #activ = get_lrelu_activations(X,parameters)    # Used for calucating the average activation values.   \n",
    "    \n",
    "    Z6 =relu_forward_propogation(X,parameters)     #Change this function for different activations\n",
    "   \n",
    "    cost = compute_cost(Z6,Y)\n",
    "  \n",
    "    optimizer = tf.train.GradientDescentOptimizer(learning_rate=learning_rate).minimize(cost)\n",
    "  \n",
    "    init = tf.global_variables_initializer()\n",
    "\n",
    "   \n",
    "    with tf.Session() as sess:\n",
    "       \n",
    "        sess.run(init)\n",
    "        \n",
    "        start_time=time.time()\n",
    "        for epoch in range(num_epochs):\n",
    "\n",
    "            epoch_cost = 0.                      \n",
    "            num_minibatches = int(m / minibatch_size) \n",
    "            seed = seed + 1\n",
    "            minibatches = random_mini_batches(X_train, Y_train, minibatch_size, seed)\n",
    "\n",
    "            for minibatch in minibatches:\n",
    "\n",
    "               \n",
    "                (minibatch_X, minibatch_Y) = minibatch\n",
    "                \n",
    "                #activations=sess.run(activ,feed_dict={X:minibatch_X,Y:minibatch_Y})\n",
    "                _ , minibatch_cost = sess.run([optimizer,cost],feed_dict={X:minibatch_X,Y:minibatch_Y})\n",
    "                \n",
    "                #mean_temp_activations.append(activations)\n",
    "                epoch_cost += minibatch_cost / num_minibatches\n",
    "\n",
    "            #mean_activations.append(np.mean(mean_temp_activations))  \n",
    "            if epoch % 50 == 0:\n",
    "                print (\"Cost after epoch %i: %f\" % (epoch, epoch_cost))\n",
    "            if epoch % 5 == 0:\n",
    "                costs.append(epoch_cost)\n",
    "                \n",
    "       \n",
    "        end_time=time.time()\n",
    "        time_taken=end_time-start_time\n",
    "        parameters = sess.run(parameters)\n",
    "        print (\"Parameters have been trained!\")\n",
    "        correct_prediction = tf.equal(tf.argmax(Z6), tf.argmax(Y))\n",
    "        accuracy = tf.reduce_mean(tf.cast(correct_prediction, \"float\"))\n",
    "        train_accuracy=accuracy.eval({X: X_train, Y: Y_train})\n",
    "        test_accuracy=accuracy.eval({X: X_test, Y: Y_test})\n",
    "        print (\"Train Accuracy:\", accuracy.eval({X: X_train, Y: Y_train}))\n",
    "        print (\"Test Accuracy:\", accuracy.eval({X: X_test, Y: Y_test}))\n",
    "        \n",
    "        return parameters,train_accuracy,test_accuracy,costs,time_taken"
   ]
  },
  {
   "cell_type": "code",
   "execution_count": 15,
   "metadata": {},
   "outputs": [
    {
     "name": "stdout",
     "output_type": "stream",
     "text": [
      "Cost after epoch 0: 1.811160\n",
      "Cost after epoch 50: 0.177767\n",
      "Cost after epoch 100: 0.127962\n",
      "Cost after epoch 150: 0.103563\n",
      "Cost after epoch 200: 0.086034\n",
      "Cost after epoch 250: 0.072658\n",
      "Parameters have been trained!\n",
      "Train Accuracy: 0.980655\n",
      "Test Accuracy: 0.9536\n"
     ]
    }
   ],
   "source": [
    "parameters,training_accuracy,test_accuracy,relu_costs,time_relu = model(mnist_training_images, mnist_training_images_labels, mnist_test_images, mnist_test_images_labels)"
   ]
  },
  {
   "cell_type": "code",
   "execution_count": 52,
   "metadata": {},
   "outputs": [
    {
     "name": "stderr",
     "output_type": "stream",
     "text": [
      "//anaconda/lib/python3.5/site-packages/matplotlib/cbook.py:136: MatplotlibDeprecationWarning: The set_color_cycle attribute was deprecated in version 1.5. Use set_prop_cycle instead.\n",
      "  warnings.warn(message, mplDeprecation, stacklevel=1)\n"
     ]
    },
    {
     "data": {
      "image/png": "[encoded data removed]",
      "text/plain": [
       "<matplotlib.figure.Figure at 0x1287b9208>"
      ]
     },
     "metadata": {},
     "output_type": "display_data"
    }
   ],
   "source": [
    "plt.gca().set_color_cycle(['blue', 'red', 'black','green'])\n",
    "plt.plot(np.squeeze(sigmoid_costs))\n",
    "plt.plot(np.squeeze(relu_costs))\n",
    "plt.plot(np.squeeze(elu_costs))\n",
    "plt.plot(np.squeeze(lrelu_costs))\n",
    "plt.ylabel('Cross entropy Loss')\n",
    "plt.xlabel('epoch')\n",
    "plt.title(\"Learning rate =\" + str(0.01) + \", Total epochs =300\")\n",
    "\n",
    "plt.legend(['Sigmoid', 'ReLU', 'ELU','LReLU'], loc='upper right')\n",
    "\n",
    "\n",
    "plt.savefig('cross_entropy_loss1.jpeg',dpi=500)\n"
   ]
  },
  {
   "cell_type": "code",
   "execution_count": 2,
   "metadata": {
    "collapsed": true
   },
   "outputs": [],
   "source": [
    "x=np.arange(-10,10)\n",
    "y=[i if i>0 else (np.exp(i)-1) for i in x]"
   ]
  },
  {
   "cell_type": "code",
   "execution_count": 3,
   "metadata": {},
   "outputs": [
    {
     "name": "stderr",
     "output_type": "stream",
     "text": [
      "//anaconda/lib/python3.5/site-packages/ipykernel/__main__.py:3: DeprecationWarning: `spline` is deprecated!\n",
      "spline is deprecated in scipy 0.19.0, use Bspline class instead.\n",
      "  app.launch_new_instance()\n"
     ]
    },
    {
     "data": {
      "image/png": "[encoded data removed]",
      "text/plain": [
       "<matplotlib.figure.Figure at 0x1126d1e80>"
      ]
     },
     "metadata": {},
     "output_type": "display_data"
    }
   ],
   "source": [
    "from scipy.interpolate import spline\n",
    "xnew = np.linspace(-10,9,300)\n",
    "ynew = spline(x,y,xnew)\n",
    "plt.plot(xnew,ynew)\n",
    "plt.xlabel(\"x\")\n",
    "plt.ylabel(\"f(x)\")\n",
    "plt.savefig('elu.jpeg',dpi=300)\n",
    "plt.show()"
   ]
  },
  {
   "cell_type": "code",
   "execution_count": null,
   "metadata": {
    "collapsed": true
   },
   "outputs": [],
   "source": [
    "# Calculate all (4) activation values by uncommenting lines in the model method to run this code\n",
    "plt.gca().set_color_cycle(['blue', 'red', 'black',])\n",
    "plt.plot(lrelu_activations)\n",
    "plt.plot(relu_activations)\n",
    "plt.plot(activations)\n",
    "plt.xlabel(\"epoch\")\n",
    "plt.ylabel(\"Avg. Unit Activation\")\n",
    "plt.legend(['LReLU', 'ReLU', 'ELU'], loc='upper right')\n",
    "plt.savefig('avg_activations.jpeg',dpi=500)"
   ]
  },
  {
   "cell_type": "markdown",
   "metadata": {},
   "source": [
    "<img src=\"Results/avg_activations.jpeg\">"
   ]
  }
 ],
 "metadata": {
  "kernelspec": {
   "display_name": "Python [default]",
   "language": "python",
   "name": "python3"
  },
  "language_info": {
   "codemirror_mode": {
    "name": "ipython",
    "version": 3
   },
   "file_extension": ".py",
   "mimetype": "text/x-python",
   "name": "python",
   "nbconvert_exporter": "python",
   "pygments_lexer": "ipython3",
   "version": "3.5.3"
  }
 },
 "nbformat": 4,
 "nbformat_minor": 2
}
