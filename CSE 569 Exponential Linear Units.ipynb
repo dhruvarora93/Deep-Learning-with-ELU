{
 "cells": [
  {
   "cell_type": "code",
   "execution_count": 23,
   "metadata": {},
   "outputs": [],
   "source": [
    "import tensorflow as tf\n",
    "import keras\n",
    "import numpy as np\n",
    "from tensorflow.python.framework import ops\n",
    "from tf_utils import random_mini_batches\n",
    "import matplotlib.pyplot as plt\n",
    "from tensorflow.examples.tutorials.mnist import input_data\n",
    "%matplotlib inline"
   ]
  },
  {
   "cell_type": "code",
   "execution_count": 24,
   "metadata": {},
   "outputs": [
    {
     "name": "stdout",
     "output_type": "stream",
     "text": [
      "Extracting MNIST_data/train-images-idx3-ubyte.gz\n",
      "Extracting MNIST_data/train-labels-idx1-ubyte.gz\n",
      "Extracting MNIST_data/t10k-images-idx3-ubyte.gz\n",
      "Extracting MNIST_data/t10k-labels-idx1-ubyte.gz\n"
     ]
    }
   ],
   "source": [
    "mnist = input_data.read_data_sets('MNIST_data', one_hot=True)"
   ]
  },
  {
   "cell_type": "code",
   "execution_count": 25,
   "metadata": {
    "collapsed": true
   },
   "outputs": [],
   "source": [
    "mnist_training_images=mnist.train.images.T\n",
    "mnist_training_images_labels=mnist.train.labels.T\n",
    "mnist_test_images=mnist.test.images.T\n",
    "mnist_test_images_labels=mnist.test.labels.T"
   ]
  },
  {
   "cell_type": "code",
   "execution_count": 26,
   "metadata": {
    "collapsed": true
   },
   "outputs": [],
   "source": [
    "def create_placeholders(n_x,n_y):\n",
    "    X = tf.placeholder(tf.float32, shape=[n_x,None])\n",
    "    Y = tf.placeholder(tf.float32, shape=[n_y,None])\n",
    "    return X,Y"
   ]
  },
  {
   "cell_type": "code",
   "execution_count": 27,
   "metadata": {
    "collapsed": true
   },
   "outputs": [],
   "source": [
    "def initialize_parameters():\n",
    "    W1 = tf.get_variable(\"W1\",[20,784],initializer=tf.contrib.keras.initializers.he_uniform(seed=1))\n",
    "    b1 = tf.get_variable(\"b1\",[20,1],initializer=tf.zeros_initializer())\n",
    "    W2 = tf.get_variable(\"W2\",[20,20],initializer=tf.contrib.keras.initializers.he_uniform(seed=1))\n",
    "    b2 = tf.get_variable(\"b2\",[20,1],initializer=tf.zeros_initializer())\n",
    "    W3 = tf.get_variable(\"W3\",[20,20],initializer=tf.contrib.keras.initializers.he_uniform(seed=1))\n",
    "    b3 = tf.get_variable(\"b3\",[20,1],initializer=tf.zeros_initializer())\n",
    "    W4 = tf.get_variable(\"W4\",[10,20],initializer=tf.contrib.keras.initializers.he_uniform(seed=1))\n",
    "    b4 = tf.get_variable(\"b4\",[10,1],initializer=tf.zeros_initializer())\n",
    "    parameters = {   \"W1\": W1,\n",
    "                  \"b1\": b1,\n",
    "                  \"W2\": W2,\n",
    "                  \"b2\": b2,\n",
    "                  \"W3\": W3,\n",
    "                  \"b3\": b3,\n",
    "                   \"W4\":W4,\n",
    "                   \"b4\":b4   }\n",
    "    return parameters\n"
   ]
  },
  {
   "cell_type": "code",
   "execution_count": 28,
   "metadata": {
    "collapsed": true
   },
   "outputs": [],
   "source": [
    "def forward_propogation(X,parameters):\n",
    "     W1 = parameters['W1']\n",
    "     b1 = parameters['b1']\n",
    "     W2 = parameters['W2']\n",
    "     b2 = parameters['b2']\n",
    "     W3 = parameters['W3']\n",
    "     b3 = parameters['b3']\n",
    "     W4 = parameters['W4']\n",
    "     b4 = parameters['b4']\n",
    "     Z1 = tf.add(tf.matmul(W1,X),b1)  \n",
    "     A1=tf.nn.elu(Z1)                    # Using ELU as the activation function in all the layers\n",
    "     Z2 = tf.add(tf.matmul(W2,A1),b2)\n",
    "     A2=tf.nn.elu(Z2)\n",
    "     Z3 = tf.add(tf.matmul(W3,A2),b3)\n",
    "     A3=tf.nn.elu(Z3)\n",
    "     Z4 = tf.add(tf.matmul(W4,A3),b4)\n",
    "     return Z4"
   ]
  },
  {
   "cell_type": "code",
   "execution_count": 29,
   "metadata": {
    "collapsed": true
   },
   "outputs": [],
   "source": [
    "def compute_cost(Z4,Y):\n",
    "    logits = tf.transpose(Z4)\n",
    "    labels = tf.transpose(Y)\n",
    "    cost = tf.reduce_mean(tf.nn.softmax_cross_entropy_with_logits(logits=logits,labels=labels))\n",
    "    return cost"
   ]
  },
  {
   "cell_type": "code",
   "execution_count": 33,
   "metadata": {
    "collapsed": true
   },
   "outputs": [],
   "source": [
    "def model(X_train, Y_train, X_test, Y_test, learning_rate = 0.01,\n",
    "          num_epochs = 300, minibatch_size = 64, print_cost = True):\n",
    "    \n",
    "    ops.reset_default_graph()                         \n",
    "    tf.set_random_seed(1)                         \n",
    "    seed = 3                                         \n",
    "    (n_x, m) = X_train.shape                         \n",
    "    n_y = Y_train.shape[0]                           \n",
    "    elu_costs = []                                        \n",
    "    \n",
    "    X,Y=create_placeholders(n_x,n_y)\n",
    "   \n",
    "    parameters = initialize_parameters()\n",
    "   \n",
    "    Z4 =forward_propogation(X,parameters)\n",
    "   \n",
    "    cost = compute_cost(Z4,Y)\n",
    "  \n",
    "    optimizer = tf.train.GradientDescentOptimizer(learning_rate=learning_rate).minimize(cost)\n",
    "  \n",
    "    init = tf.global_variables_initializer()\n",
    "\n",
    "   \n",
    "    with tf.Session() as sess:\n",
    "\n",
    "        sess.run(init)\n",
    "        \n",
    "       \n",
    "        for epoch in range(num_epochs):\n",
    "\n",
    "            epoch_cost = 0.                      \n",
    "            num_minibatches = int(m / minibatch_size) \n",
    "            seed = seed + 1\n",
    "            minibatches = random_mini_batches(X_train, Y_train, minibatch_size, seed)\n",
    "\n",
    "            for minibatch in minibatches:\n",
    "\n",
    "               \n",
    "                (minibatch_X, minibatch_Y) = minibatch\n",
    "                \n",
    "               \n",
    "                _ , minibatch_cost = sess.run([optimizer,cost],feed_dict={X:minibatch_X,Y:minibatch_Y})\n",
    "                \n",
    "                epoch_cost += minibatch_cost / num_minibatches\n",
    "\n",
    "           \n",
    "            if print_cost == True and epoch % 50 == 0:\n",
    "                print (\"Cost after epoch %i: %f\" % (epoch, epoch_cost))\n",
    "            if print_cost == True and epoch % 5 == 0:\n",
    "                elu_costs.append(epoch_cost)\n",
    "                \n",
    "       \n",
    "        plt.plot(np.squeeze(elu_costs))\n",
    "        plt.ylabel('cost')\n",
    "        plt.xlabel('iterations (per tens)')\n",
    "        plt.title(\"Learning rate =\" + str(learning_rate))\n",
    "        plt.show()\n",
    "\n",
    "        # lets save the parameters in a variable\n",
    "        parameters = sess.run(parameters)\n",
    "        print (\"Parameters have been trained!\")\n",
    "\n",
    "        # Calculate the correct predictions\n",
    "        correct_prediction = tf.equal(tf.argmax(Z4), tf.argmax(Y))\n",
    "\n",
    "        # Calculate accuracy on the test set\n",
    "        accuracy = tf.reduce_mean(tf.cast(correct_prediction, \"float\"))\n",
    "        train_accuracy=accuracy.eval({X: X_train, Y: Y_train})\n",
    "        test_accuracy=accuracy.eval({X: X_test, Y: Y_test})\n",
    "        print (\"Train Accuracy:\", accuracy.eval({X: X_train, Y: Y_train}))\n",
    "        print (\"Test Accuracy:\", accuracy.eval({X: X_test, Y: Y_test}))\n",
    "        \n",
    "        return parameters,train_accuracy,test_accuracy,elu_costs"
   ]
  },
  {
   "cell_type": "code",
   "execution_count": null,
   "metadata": {
    "collapsed": true
   },
   "outputs": [],
   "source": []
  },
  {
   "cell_type": "code",
   "execution_count": 34,
   "metadata": {},
   "outputs": [
    {
     "name": "stdout",
     "output_type": "stream",
     "text": [
      "Cost after epoch 0: 1.316656\n",
      "Cost after epoch 50: 0.160542\n",
      "Cost after epoch 100: 0.121306\n",
      "Cost after epoch 150: 0.100569\n",
      "Cost after epoch 200: 0.085232\n",
      "Cost after epoch 250: 0.073773\n"
     ]
    },
    {
     "data": {
      "image/png": "[encoded data removed]",
      "text/plain": [
       "<matplotlib.figure.Figure at 0x12df91e80>"
      ]
     },
     "metadata": {},
     "output_type": "display_data"
    },
    {
     "name": "stdout",
     "output_type": "stream",
     "text": [
      "Parameters have been trained!\n",
      "Train Accuracy: 0.981564\n",
      "Test Accuracy: 0.9596\n"
     ]
    }
   ],
   "source": [
    "parameters,training_accuracy,test_accuracy,elu_costs = model(mnist_training_images, mnist_training_images_labels, mnist_test_images, mnist_test_images_labels)"
   ]
  },
  {
   "cell_type": "code",
   "execution_count": 82,
   "metadata": {},
   "outputs": [
    {
     "name": "stdout",
     "output_type": "stream",
     "text": [
      "1.2.1\n"
     ]
    }
   ],
   "source": [
    "print (tf.__version__)"
   ]
  },
  {
   "cell_type": "code",
   "execution_count": null,
   "metadata": {
    "collapsed": true
   },
   "outputs": [],
   "source": []
  }
 ],
 "metadata": {
  "kernelspec": {
   "display_name": "Python [default]",
   "language": "python",
   "name": "python3"
  },
  "language_info": {
   "codemirror_mode": {
    "name": "ipython",
    "version": 3
   },
   "file_extension": ".py",
   "mimetype": "text/x-python",
   "name": "python",
   "nbconvert_exporter": "python",
   "pygments_lexer": "ipython3",
   "version": "3.5.3"
  }
 },
 "nbformat": 4,
 "nbformat_minor": 2
}
